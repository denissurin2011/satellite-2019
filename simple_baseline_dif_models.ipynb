{
 "cells": [
  {
   "cell_type": "code",
   "execution_count": 1,
   "metadata": {},
   "outputs": [],
   "source": [
    "from sklearn.linear_model import LinearRegression\n",
    "import numpy as np\n",
    "import pandas as pd"
   ]
  },
  {
   "cell_type": "code",
   "execution_count": 9,
   "metadata": {},
   "outputs": [],
   "source": [
    "%matplotlib inline\n",
    "\n",
    "import matplotlib\n",
    "import matplotlib.pyplot as plt"
   ]
  },
  {
   "cell_type": "markdown",
   "metadata": {},
   "source": [
    "# Train simple baseline (Linear Regression models)\n",
    "\n",
    "metric: [MAPE](https://en.wikipedia.org/wiki/Mean_absolute_percentage_error)"
   ]
  },
  {
   "cell_type": "code",
   "execution_count": 2,
   "metadata": {},
   "outputs": [],
   "source": [
    "# load data\n",
    "df = pd.read_csv('ephemerides.csv', index_col=0)"
   ]
  },
  {
   "cell_type": "code",
   "execution_count": 8,
   "metadata": {},
   "outputs": [
    {
     "data": {
      "text/html": [
       "<div>\n",
       "<style scoped>\n",
       "    .dataframe tbody tr th:only-of-type {\n",
       "        vertical-align: middle;\n",
       "    }\n",
       "\n",
       "    .dataframe tbody tr th {\n",
       "        vertical-align: top;\n",
       "    }\n",
       "\n",
       "    .dataframe thead th {\n",
       "        text-align: right;\n",
       "    }\n",
       "</style>\n",
       "<table border=\"1\" class=\"dataframe\">\n",
       "  <thead>\n",
       "    <tr style=\"text-align: right;\">\n",
       "      <th></th>\n",
       "      <th>time</th>\n",
       "      <th>sat_id</th>\n",
       "      <th>x</th>\n",
       "      <th>y</th>\n",
       "      <th>z</th>\n",
       "      <th>Vx</th>\n",
       "      <th>Vy</th>\n",
       "      <th>Vz</th>\n",
       "      <th>x_sim</th>\n",
       "      <th>y_sim</th>\n",
       "      <th>z_sim</th>\n",
       "      <th>Vx_sim</th>\n",
       "      <th>Vy_sim</th>\n",
       "      <th>Vz_sim</th>\n",
       "    </tr>\n",
       "  </thead>\n",
       "  <tbody>\n",
       "    <tr>\n",
       "      <th>0</th>\n",
       "      <td>2014-01-01T00:00:00.000</td>\n",
       "      <td>0</td>\n",
       "      <td>-174888.951965</td>\n",
       "      <td>-265568.785988</td>\n",
       "      <td>217841.949902</td>\n",
       "      <td>-0.007575</td>\n",
       "      <td>0.665873</td>\n",
       "      <td>0.805676</td>\n",
       "      <td>-174482.150004</td>\n",
       "      <td>-265867.392143</td>\n",
       "      <td>218370.330515</td>\n",
       "      <td>-0.006604</td>\n",
       "      <td>0.665740</td>\n",
       "      <td>0.807812</td>\n",
       "    </tr>\n",
       "    <tr>\n",
       "      <th>1</th>\n",
       "      <td>2014-01-01T00:00:00.000</td>\n",
       "      <td>1</td>\n",
       "      <td>-3416.366748</td>\n",
       "      <td>-81565.608624</td>\n",
       "      <td>168905.075240</td>\n",
       "      <td>-0.935510</td>\n",
       "      <td>1.390621</td>\n",
       "      <td>0.652620</td>\n",
       "      <td>-2778.952278</td>\n",
       "      <td>-83937.757266</td>\n",
       "      <td>169915.555887</td>\n",
       "      <td>-0.936387</td>\n",
       "      <td>1.392969</td>\n",
       "      <td>0.652633</td>\n",
       "    </tr>\n",
       "    <tr>\n",
       "      <th>2</th>\n",
       "      <td>2014-01-01T00:00:00.000</td>\n",
       "      <td>2</td>\n",
       "      <td>153335.857299</td>\n",
       "      <td>-173831.884831</td>\n",
       "      <td>36608.049261</td>\n",
       "      <td>-0.639141</td>\n",
       "      <td>-0.810197</td>\n",
       "      <td>-1.170094</td>\n",
       "      <td>154067.064465</td>\n",
       "      <td>-175005.173107</td>\n",
       "      <td>36769.795485</td>\n",
       "      <td>-0.637430</td>\n",
       "      <td>-0.806600</td>\n",
       "      <td>-1.166212</td>\n",
       "    </tr>\n",
       "    <tr>\n",
       "      <th>3</th>\n",
       "      <td>2014-01-01T00:00:00.000</td>\n",
       "      <td>3</td>\n",
       "      <td>42217.785595</td>\n",
       "      <td>132119.619756</td>\n",
       "      <td>35763.807577</td>\n",
       "      <td>2.057849</td>\n",
       "      <td>-0.563044</td>\n",
       "      <td>-0.349200</td>\n",
       "      <td>42048.279640</td>\n",
       "      <td>137356.495120</td>\n",
       "      <td>36137.452195</td>\n",
       "      <td>2.057364</td>\n",
       "      <td>-0.562728</td>\n",
       "      <td>-0.349683</td>\n",
       "    </tr>\n",
       "    <tr>\n",
       "      <th>4</th>\n",
       "      <td>2014-01-01T00:00:00.000</td>\n",
       "      <td>4</td>\n",
       "      <td>125679.059962</td>\n",
       "      <td>-48416.909578</td>\n",
       "      <td>69271.781964</td>\n",
       "      <td>0.077410</td>\n",
       "      <td>1.763949</td>\n",
       "      <td>1.092452</td>\n",
       "      <td>123971.071799</td>\n",
       "      <td>-47676.640634</td>\n",
       "      <td>70226.932742</td>\n",
       "      <td>0.069301</td>\n",
       "      <td>1.765183</td>\n",
       "      <td>1.095993</td>\n",
       "    </tr>\n",
       "  </tbody>\n",
       "</table>\n",
       "</div>"
      ],
      "text/plain": [
       "                      time  sat_id              x              y  \\\n",
       "0  2014-01-01T00:00:00.000       0 -174888.951965 -265568.785988   \n",
       "1  2014-01-01T00:00:00.000       1   -3416.366748  -81565.608624   \n",
       "2  2014-01-01T00:00:00.000       2  153335.857299 -173831.884831   \n",
       "3  2014-01-01T00:00:00.000       3   42217.785595  132119.619756   \n",
       "4  2014-01-01T00:00:00.000       4  125679.059962  -48416.909578   \n",
       "\n",
       "               z        Vx        Vy        Vz          x_sim          y_sim  \\\n",
       "0  217841.949902 -0.007575  0.665873  0.805676 -174482.150004 -265867.392143   \n",
       "1  168905.075240 -0.935510  1.390621  0.652620   -2778.952278  -83937.757266   \n",
       "2   36608.049261 -0.639141 -0.810197 -1.170094  154067.064465 -175005.173107   \n",
       "3   35763.807577  2.057849 -0.563044 -0.349200   42048.279640  137356.495120   \n",
       "4   69271.781964  0.077410  1.763949  1.092452  123971.071799  -47676.640634   \n",
       "\n",
       "           z_sim    Vx_sim    Vy_sim    Vz_sim  \n",
       "0  218370.330515 -0.006604  0.665740  0.807812  \n",
       "1  169915.555887 -0.936387  1.392969  0.652633  \n",
       "2   36769.795485 -0.637430 -0.806600 -1.166212  \n",
       "3   36137.452195  2.057364 -0.562728 -0.349683  \n",
       "4   70226.932742  0.069301  1.765183  1.095993  "
      ]
     },
     "execution_count": 8,
     "metadata": {},
     "output_type": "execute_result"
    }
   ],
   "source": [
    "df.head()"
   ]
  },
  {
   "cell_type": "code",
   "execution_count": 15,
   "metadata": {},
   "outputs": [
    {
     "data": {
      "text/plain": [
       "(array([ 226.,  715., 2577., 4069., 3454., 3080., 3096., 3136., 1260.,\n",
       "         287.]), array([-604531.7517331 , -485214.90297885, -365898.0542246 ,\n",
       "        -246581.20547036, -127264.35671611,   -7947.50796187,\n",
       "         111369.34079238,  230686.18954663,  350003.03830087,\n",
       "         469319.88705512,  588636.73580936]), <a list of 10 Patch objects>)"
      ]
     },
     "execution_count": 15,
     "metadata": {},
     "output_type": "execute_result"
    },
    {
     "data": {
      "image/png": "[encoded data removed]",
      "text/plain": [
       "<Figure size 432x288 with 1 Axes>"
      ]
     },
     "metadata": {
      "needs_background": "light"
     },
     "output_type": "display_data"
    }
   ],
   "source": [
    "plt.title('x')\n",
    "plt.hist(df.x)"
   ]
  },
  {
   "cell_type": "code",
   "execution_count": 12,
   "metadata": {},
   "outputs": [
    {
     "data": {
      "text/plain": [
       "(array([ 106.,  705., 2548., 3756., 3735., 3710., 2960., 2421., 1788.,\n",
       "         171.]), array([-631260.89329227, -514669.77028907, -398078.64728587,\n",
       "        -281487.52428267, -164896.40127947,  -48305.27827627,\n",
       "          68285.84472693,  184876.96773013,  301468.09073333,\n",
       "         418059.21373653,  534650.33673973]), <a list of 10 Patch objects>)"
      ]
     },
     "execution_count": 12,
     "metadata": {},
     "output_type": "execute_result"
    },
    {
     "data": {
      "image/png": "[encoded data removed]",
      "text/plain": [
       "<Figure size 432x288 with 1 Axes>"
      ]
     },
     "metadata": {
      "needs_background": "light"
     },
     "output_type": "display_data"
    }
   ],
   "source": [
    "plt.hist(df.y)"
   ]
  },
  {
   "cell_type": "code",
   "execution_count": 13,
   "metadata": {},
   "outputs": [
    {
     "data": {
      "text/plain": [
       "(array([  11.,  229., 1504., 5130., 4194., 5087., 4744.,  881.,  102.,\n",
       "          18.]),\n",
       " array([-2.51146501, -1.99479634, -1.47812768, -0.96145901, -0.44479034,\n",
       "         0.07187832,  0.58854699,  1.10521565,  1.62188432,  2.13855298,\n",
       "         2.65522165]),\n",
       " <a list of 10 Patch objects>)"
      ]
     },
     "execution_count": 13,
     "metadata": {},
     "output_type": "execute_result"
    },
    {
     "data": {
      "image/png": "[encoded data removed]",
      "text/plain": [
       "<Figure size 432x288 with 1 Axes>"
      ]
     },
     "metadata": {
      "needs_background": "light"
     },
     "output_type": "display_data"
    }
   ],
   "source": [
    "plt.hist(df.Vx)"
   ]
  },
  {
   "cell_type": "code",
   "execution_count": 14,
   "metadata": {},
   "outputs": [
    {
     "data": {
      "text/plain": [
       "(array([  38.,  274.,  920., 3499., 5020., 5055., 5064., 1626.,  317.,\n",
       "          87.]),\n",
       " array([-2.50041344, -2.02991268, -1.55941192, -1.08891116, -0.6184104 ,\n",
       "        -0.14790964,  0.32259112,  0.79309189,  1.26359265,  1.73409341,\n",
       "         2.20459417]),\n",
       " <a list of 10 Patch objects>)"
      ]
     },
     "execution_count": 14,
     "metadata": {},
     "output_type": "execute_result"
    },
    {
     "data": {
      "image/png": "[encoded data removed]",
      "text/plain": [
       "<Figure size 432x288 with 1 Axes>"
      ]
     },
     "metadata": {
      "needs_background": "light"
     },
     "output_type": "display_data"
    }
   ],
   "source": [
    "plt.hist(df.Vy)"
   ]
  },
  {
   "cell_type": "code",
   "execution_count": 3,
   "metadata": {},
   "outputs": [
    {
     "name": "stdout",
     "output_type": "stream",
     "text": [
      "n_train: 17520\n",
      "n_val: 4380\n",
      "n_test: 9400\n"
     ]
    }
   ],
   "source": [
    "# target variables columns \n",
    "target_cols = ['x', 'y', 'z', 'Vx', 'Vy', 'Vz']\n",
    "# features columns \n",
    "feature_cols = [c for c in df.columns if c not in target_cols and c != 'time']\n",
    "# number of rows for training, validation and prediction\n",
    "n_train = df.shape[0] - np.isnan(df[target_cols[0]]).sum()\n",
    "n_val = int(0.2 * n_train)\n",
    "n_train = n_train - n_val\n",
    "n_test = df.shape[0] - n_train - n_val\n",
    "\n",
    "print(f\"n_train: {n_train}\\nn_val: {n_val}\\nn_test: {n_test}\")\n",
    "assert n_train + n_val + n_test == df.shape[0]\n",
    "\n",
    "# train, validation, test arrays\n",
    "X_train = df[feature_cols].values[:n_train]\n",
    "y_train = dict(zip(target_cols, [df[l].values[:n_train] for l in target_cols]))\n",
    "X_val = df[feature_cols].values[n_train:n_train+n_val]\n",
    "y_val = dict(zip(target_cols, [df[l].values[n_train:n_train+n_val] for l in target_cols]))\n",
    "X_test = df[feature_cols].values[n_train+n_val:]\n",
    "\n",
    "assert X_train.shape[0] == y_train[target_cols[0]].shape[0] == n_train\n",
    "assert X_val.shape[0] == y_val[target_cols[0]].shape[0] == n_val\n",
    "assert X_test.shape[0] == n_test"
   ]
  },
  {
   "cell_type": "code",
   "execution_count": 4,
   "metadata": {},
   "outputs": [
    {
     "name": "stdout",
     "output_type": "stream",
     "text": [
      "x\n",
      "MAPE train:  2.7567727600464633\n",
      "MAPE val:  9.020985138294844 \n",
      "\n",
      "y\n",
      "MAPE train:  1.9390680432773442\n",
      "MAPE val:  0.9039356458499594 \n",
      "\n",
      "z\n",
      "MAPE train:  3.009183046955286\n",
      "MAPE val:  0.9205662275527899 \n",
      "\n",
      "Vx\n",
      "MAPE train:  1.418021503785793\n",
      "MAPE val:  2.366280615350265 \n",
      "\n",
      "Vy\n",
      "MAPE train:  1.7871230286264799\n",
      "MAPE val:  1.6511369096904476 \n",
      "\n",
      "Vz\n",
      "MAPE train:  1.9287174769356301\n",
      "MAPE val:  1.875870853003923 \n",
      "\n",
      "------\n",
      "mean MAPE train:  2.1398143099378326\n",
      "mean MAPE val:  2.7897958982903717\n"
     ]
    }
   ],
   "source": [
    "# dictionary: {variable: LR predictions}\n",
    "y_test = {}\n",
    "\n",
    "_mape_train_list = []\n",
    "_mape_val_list = []\n",
    "for k, v in y_train.items():\n",
    "    model = LinearRegression().fit(X_train, v)\n",
    "    mape_train = np.mean(np.abs((model.predict(X_train) - v) / v)) * 100\n",
    "    _mape_train_list.append(mape_train)\n",
    "    mape_val = np.mean(np.abs((model.predict(X_val) - y_val[k]) / y_val[k])) * 100\n",
    "    _mape_val_list.append(mape_val)\n",
    "    model = LinearRegression().fit(\n",
    "        np.vstack([X_train, X_val]), np.hstack([v, y_val[k]]))\n",
    "    y_test[k] = model.predict(X_test)\n",
    "    print(k)\n",
    "    print(\"MAPE train: \", mape_train)\n",
    "    print(\"MAPE val: \", mape_val, \"\\n\")\n",
    "\n",
    "print(\"------\")\n",
    "print(\"mean MAPE train: \", np.mean(_mape_train_list))\n",
    "print(\"mean MAPE val: \", np.mean(_mape_val_list))"
   ]
  },
  {
   "cell_type": "code",
   "execution_count": 5,
   "metadata": {},
   "outputs": [],
   "source": [
    "# predictions\n",
    "predictions = pd.DataFrame(y_test, index=df.index[-n_test:])\n",
    "predictions.to_csv('predictions.csv')"
   ]
  },
  {
   "cell_type": "code",
   "execution_count": 8,
   "metadata": {},
   "outputs": [
    {
     "name": "stdout",
     "output_type": "stream",
     "text": [
      "Collecting xgboost\n",
      "  Using cached https://files.pythonhosted.org/packages/96/84/4e2cae6247f397f83d8adc5c2a2a0c5d7d790a14a4c7400ff6574586f589/xgboost-0.90.tar.gz\n",
      "\u001b[31m    ERROR: Command errored out with exit status 1:\n",
      "     command: /Users/denissurin/opt/anaconda3/bin/python -c 'import sys, setuptools, tokenize; sys.argv[0] = '\"'\"'/private/var/folders/gg/3sw3zdf913xdgjyktqrthqrr0000gn/T/pip-install-j5sqdrb3/xgboost/setup.py'\"'\"'; __file__='\"'\"'/private/var/folders/gg/3sw3zdf913xdgjyktqrthqrr0000gn/T/pip-install-j5sqdrb3/xgboost/setup.py'\"'\"';f=getattr(tokenize, '\"'\"'open'\"'\"', open)(__file__);code=f.read().replace('\"'\"'\\r\\n'\"'\"', '\"'\"'\\n'\"'\"');f.close();exec(compile(code, __file__, '\"'\"'exec'\"'\"'))' egg_info --egg-base pip-egg-info\n",
      "         cwd: /private/var/folders/gg/3sw3zdf913xdgjyktqrthqrr0000gn/T/pip-install-j5sqdrb3/xgboost/\n",
      "    Complete output (29 lines):\n",
      "    ++ pwd\n",
      "    + oldpath=/private/var/folders/gg/3sw3zdf913xdgjyktqrthqrr0000gn/T/pip-install-j5sqdrb3/xgboost\n",
      "    + cd ./xgboost/\n",
      "    + echo darwin19\n",
      "    + grep -q darwin\n",
      "    + LIB_XGBOOST=libxgboost.dylib\n",
      "    + which g++-5\n",
      "    + which g++-7\n",
      "    + which g++-8\n",
      "    + which clang++\n",
      "    /usr/bin/clang++\n",
      "    + export CC=clang\n",
      "    + CC=clang\n",
      "    + export CXX=clang++\n",
      "    + CXX=clang++\n",
      "    + make clean\n",
      "    xcrun: error: invalid active developer path (/Library/Developer/CommandLineTools), missing xcrun at: /Library/Developer/CommandLineTools/usr/bin/xcrun\n",
      "    Traceback (most recent call last):\n",
      "      File \"<string>\", line 1, in <module>\n",
      "      File \"/private/var/folders/gg/3sw3zdf913xdgjyktqrthqrr0000gn/T/pip-install-j5sqdrb3/xgboost/setup.py\", line 42, in <module>\n",
      "        LIB_PATH = libpath['find_lib_path']()\n",
      "      File \"/private/var/folders/gg/3sw3zdf913xdgjyktqrthqrr0000gn/T/pip-install-j5sqdrb3/xgboost/xgboost/libpath.py\", line 48, in find_lib_path\n",
      "        'List of candidates:\\n' + ('\\n'.join(dll_path)))\n",
      "    XGBoostLibraryNotFound: Cannot find XGBoost Library in the candidate path, did you install compilers and run build.sh in root path?\n",
      "    List of candidates:\n",
      "    /private/var/folders/gg/3sw3zdf913xdgjyktqrthqrr0000gn/T/pip-install-j5sqdrb3/xgboost/xgboost/libxgboost.dylib\n",
      "    /private/var/folders/gg/3sw3zdf913xdgjyktqrthqrr0000gn/T/pip-install-j5sqdrb3/xgboost/xgboost/../../lib/libxgboost.dylib\n",
      "    /private/var/folders/gg/3sw3zdf913xdgjyktqrthqrr0000gn/T/pip-install-j5sqdrb3/xgboost/xgboost/./lib/libxgboost.dylib\n",
      "    /Users/denissurin/opt/anaconda3/xgboost/libxgboost.dylib\n",
      "    ----------------------------------------\u001b[0m\n",
      "\u001b[31mERROR: Command errored out with exit status 1: python setup.py egg_info Check the logs for full command output.\u001b[0m\n"
     ]
    }
   ],
   "source": [
    "!pip install xgboost"
   ]
  },
  {
   "cell_type": "markdown",
   "metadata": {},
   "source": [
    "## Разлинчные стандарнтые sklearn models"
   ]
  },
  {
   "cell_type": "code",
   "execution_count": 9,
   "metadata": {},
   "outputs": [
    {
     "name": "stdout",
     "output_type": "stream",
     "text": [
      "[17:09:45] WARNING: src/objective/regression_obj.cu:152: reg:linear is now deprecated in favor of reg:squarederror.\n",
      "[17:11:28] WARNING: src/objective/regression_obj.cu:152: reg:linear is now deprecated in favor of reg:squarederror.\n",
      "x\n",
      "MAPE train:  7.11423715863216\n",
      "MAPE val:  506.4683157622353 \n",
      "\n",
      "[17:13:06] WARNING: src/objective/regression_obj.cu:152: reg:linear is now deprecated in favor of reg:squarederror.\n",
      "[17:14:24] WARNING: src/objective/regression_obj.cu:152: reg:linear is now deprecated in favor of reg:squarederror.\n",
      "y\n",
      "MAPE train:  2.705351351015066\n",
      "MAPE val:  10.844870050897397 \n",
      "\n",
      "[17:15:56] WARNING: src/objective/regression_obj.cu:152: reg:linear is now deprecated in favor of reg:squarederror.\n",
      "[17:17:14] WARNING: src/objective/regression_obj.cu:152: reg:linear is now deprecated in favor of reg:squarederror.\n",
      "z\n",
      "MAPE train:  22.904018272862427\n",
      "MAPE val:  12.673998960792806 \n",
      "\n",
      "[17:18:44] WARNING: src/objective/regression_obj.cu:152: reg:linear is now deprecated in favor of reg:squarederror.\n",
      "[17:20:02] WARNING: src/objective/regression_obj.cu:152: reg:linear is now deprecated in favor of reg:squarederror.\n",
      "Vx\n",
      "MAPE train:  6.007656941837554\n",
      "MAPE val:  20.811508089962384 \n",
      "\n",
      "[17:21:33] WARNING: src/objective/regression_obj.cu:152: reg:linear is now deprecated in favor of reg:squarederror.\n",
      "[17:22:50] WARNING: src/objective/regression_obj.cu:152: reg:linear is now deprecated in favor of reg:squarederror.\n",
      "Vy\n",
      "MAPE train:  11.32174128646995\n",
      "MAPE val:  34.97959726356963 \n",
      "\n",
      "[17:24:21] WARNING: src/objective/regression_obj.cu:152: reg:linear is now deprecated in favor of reg:squarederror.\n",
      "[17:25:45] WARNING: src/objective/regression_obj.cu:152: reg:linear is now deprecated in favor of reg:squarederror.\n",
      "Vz\n",
      "MAPE train:  20.20659664420986\n",
      "MAPE val:  31.84296543652075 \n",
      "\n",
      "------\n",
      "mean MAPE train:  11.709933609171168\n",
      "mean MAPE val:  102.93687592732971\n"
     ]
    }
   ],
   "source": [
    "import xgboost\n",
    "# dictionary: {variable: LR predictions}\n",
    "y_test = {}\n",
    "_mape_train_list = []\n",
    "_mape_val_list = []\n",
    "for k, v in y_train.items():\n",
    "    model = xgboost.XGBRegressor(colsample_bytree=0.4,\n",
    "                 gamma=0,                 \n",
    "                 learning_rate=0.07,\n",
    "                 max_depth=3,\n",
    "                 min_child_weight=1.5,\n",
    "                 n_estimators=10000,                                                                    \n",
    "                 reg_alpha=0.75,\n",
    "                 reg_lambda=0.45,\n",
    "                 subsample=0.6,\n",
    "                 seed=42) \n",
    "    model.fit(X_train, v)\n",
    "    mape_train = np.mean(np.abs((model.predict(X_train) - v) / v)) * 100\n",
    "    _mape_train_list.append(mape_train)\n",
    "    mape_val = np.mean(np.abs((model.predict(X_val) - y_val[k]) / y_val[k])) * 100\n",
    "    _mape_val_list.append(mape_val)\n",
    "    model = xgboost.XGBRegressor(colsample_bytree=0.4,\n",
    "                 gamma=0,                 \n",
    "                 learning_rate=0.07,\n",
    "                 max_depth=3,\n",
    "                 min_child_weight=1.5,\n",
    "                 n_estimators=10000,                                                                    \n",
    "                 reg_alpha=0.75,\n",
    "                 reg_lambda=0.45,\n",
    "                 subsample=0.6,\n",
    "                 seed=42) \n",
    "    model.fit(\n",
    "        np.vstack([X_train, X_val]), np.hstack([v, y_val[k]]))\n",
    "    y_test[k] = model.predict(X_test)\n",
    "    print(k)\n",
    "    print(\"MAPE train: \", mape_train)\n",
    "    print(\"MAPE val: \", mape_val, \"\\n\")\n",
    "\n",
    "print(\"------\")\n",
    "print(\"mean MAPE train: \", np.mean(_mape_train_list))\n",
    "print(\"mean MAPE val: \", np.mean(_mape_val_list))"
   ]
  },
  {
   "cell_type": "code",
   "execution_count": 10,
   "metadata": {},
   "outputs": [
    {
     "name": "stdout",
     "output_type": "stream",
     "text": [
      "x\n",
      "MAPE train:  2.75678780541226\n",
      "MAPE val:  9.021076463454996 \n",
      "\n",
      "y\n",
      "MAPE train:  1.9390674982749687\n",
      "MAPE val:  0.9039355070723956 \n",
      "\n",
      "z\n",
      "MAPE train:  3.009195130695515\n",
      "MAPE val:  0.9205662958426057 \n",
      "\n",
      "Vx\n",
      "MAPE train:  1.4216994722366327\n",
      "MAPE val:  2.354210360009594 \n",
      "\n",
      "Vy\n",
      "MAPE train:  1.7817795275210626\n",
      "MAPE val:  1.6531239475982922 \n",
      "\n",
      "Vz\n",
      "MAPE train:  1.8638209686286835\n",
      "MAPE val:  1.82575992516081 \n",
      "\n",
      "------\n",
      "mean MAPE train:  2.128725067128187\n",
      "mean MAPE val:  2.7797787498564492\n"
     ]
    }
   ],
   "source": [
    "from sklearn.linear_model import Ridge\n",
    "# dictionary: {variable: LR predictions}\n",
    "y_test = {}\n",
    "_mape_train_list = []\n",
    "_mape_val_list = []\n",
    "for k, v in y_train.items():\n",
    "    model = Ridge() \n",
    "    model.fit(X_train, v)\n",
    "    mape_train = np.mean(np.abs((model.predict(X_train) - v) / v)) * 100\n",
    "    _mape_train_list.append(mape_train)\n",
    "    mape_val = np.mean(np.abs((model.predict(X_val) - y_val[k]) / y_val[k])) * 100\n",
    "    _mape_val_list.append(mape_val)\n",
    "    model = Ridge() \n",
    "    model.fit(\n",
    "        np.vstack([X_train, X_val]), np.hstack([v, y_val[k]]))\n",
    "    y_test[k] = model.predict(X_test)\n",
    "    print(k)\n",
    "    print(\"MAPE train: \", mape_train)\n",
    "    print(\"MAPE val: \", mape_val, \"\\n\")\n",
    "\n",
    "print(\"------\")\n",
    "print(\"mean MAPE train: \", np.mean(_mape_train_list))\n",
    "print(\"mean MAPE val: \", np.mean(_mape_val_list))"
   ]
  },
  {
   "cell_type": "code",
   "execution_count": 4,
   "metadata": {},
   "outputs": [],
   "source": [
    "import sklearn.ensemble"
   ]
  },
  {
   "cell_type": "code",
   "execution_count": 5,
   "metadata": {},
   "outputs": [],
   "source": [
    "from sklearn.ensemble import RandomForestRegressor"
   ]
  },
  {
   "cell_type": "code",
   "execution_count": 6,
   "metadata": {},
   "outputs": [
    {
     "name": "stdout",
     "output_type": "stream",
     "text": [
      "x\n",
      "MAPE train:  1.5907743058687336\n",
      "MAPE val:  7.725942731809567 \n",
      "\n",
      "y\n",
      "MAPE train:  0.8894792498270203\n",
      "MAPE val:  1.2873913366962995 \n",
      "\n",
      "z\n",
      "MAPE train:  1.2848195085291958\n",
      "MAPE val:  1.2718547806864073 \n",
      "\n",
      "Vx\n",
      "MAPE train:  0.6180243663634727\n",
      "MAPE val:  2.9637937358479363 \n",
      "\n",
      "Vy\n",
      "MAPE train:  0.7423788798146479\n",
      "MAPE val:  2.3353795357499 \n",
      "\n",
      "Vz\n",
      "MAPE train:  0.8277630342425654\n",
      "MAPE val:  2.2123394549124247 \n",
      "\n",
      "------\n",
      "mean MAPE train:  0.9922065574409392\n",
      "mean MAPE val:  2.9661169292837557\n"
     ]
    }
   ],
   "source": [
    "# dictionary: {variable: LR predictions}\n",
    "y_test = {}\n",
    "_mape_train_list = []\n",
    "_mape_val_list = []\n",
    "for k, v in y_train.items():\n",
    "    model = RandomForestRegressor() \n",
    "    model.fit(X_train, v)\n",
    "    mape_train = np.mean(np.abs((model.predict(X_train) - v) / v)) * 100\n",
    "    _mape_train_list.append(mape_train)\n",
    "    mape_val = np.mean(np.abs((model.predict(X_val) - y_val[k]) / y_val[k])) * 100\n",
    "    _mape_val_list.append(mape_val)\n",
    "    model = RandomForestRegressor()\n",
    "    model.fit(\n",
    "        np.vstack([X_train, X_val]), np.hstack([v, y_val[k]]))\n",
    "    y_test[k] = model.predict(X_test)\n",
    "    print(k)\n",
    "    print(\"MAPE train: \", mape_train)\n",
    "    print(\"MAPE val: \", mape_val, \"\\n\")\n",
    "\n",
    "print(\"------\")\n",
    "print(\"mean MAPE train: \", np.mean(_mape_train_list))\n",
    "print(\"mean MAPE val: \", np.mean(_mape_val_list))"
   ]
  },
  {
   "cell_type": "code",
   "execution_count": null,
   "metadata": {},
   "outputs": [],
   "source": [
    "# dictionary: {variable: LR predictions}\n",
    "y_test = {}\n",
    "_mape_train_list = []\n",
    "_mape_val_list = []\n",
    "for k, v in y_train.items():\n",
    "    model = RandomForestRegressor() \n",
    "    model.fit(X_train, v)\n",
    "    mape_train = np.mean(np.abs((model.predict(X_train) - v) / v)) * 100\n",
    "    _mape_train_list.append(mape_train)\n",
    "    mape_val = np.mean(np.abs((model.predict(X_val) - y_val[k]) / y_val[k])) * 100\n",
    "    _mape_val_list.append(mape_val)\n",
    "    model = RandomForestRegressor()\n",
    "    model.fit(\n",
    "        np.vstack([X_train, X_val]), np.hstack([v, y_val[k]]))\n",
    "    y_test[k] = model.predict(X_test)\n",
    "    print(k)\n",
    "    print(\"MAPE train: \", mape_train)\n",
    "    print(\"MAPE val: \", mape_val, \"\\n\")\n",
    "\n",
    "print(\"------\")\n",
    "print(\"mean MAPE train: \", np.mean(_mape_train_list))\n",
    "print(\"mean MAPE val: \", np.mean(_mape_val_list))"
   ]
  }
 ],
 "metadata": {
  "kernelspec": {
   "display_name": "Python 3",
   "language": "python",
   "name": "python3"
  },
  "language_info": {
   "codemirror_mode": {
    "name": "ipython",
    "version": 3
   },
   "file_extension": ".py",
   "mimetype": "text/x-python",
   "name": "python",
   "nbconvert_exporter": "python",
   "pygments_lexer": "ipython3",
   "version": "3.7.4"
  }
 },
 "nbformat": 4,
 "nbformat_minor": 2
}
